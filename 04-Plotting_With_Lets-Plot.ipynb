{
 "cells": [
  {
   "cell_type": "markdown",
   "metadata": {
    "slideshow": {
     "slide_type": "slide"
    }
   },
   "source": [
    "<div class='bar_title'></div>\n",
    "\n",
    "*Introduction to Data Science (IDS)*\n",
    "\n",
    "# Data Visualization with Lets_Plot\n",
    "\n",
    "Gunther Gust <br>\n",
    "Chair for Enterprise AI<br>\n",
    "Data Driven Decisions (D3) Group<br>\n",
    "Center for Artificial Intelligence and Data Science (CAIDAS)"
   ]
  },
  {
   "cell_type": "markdown",
   "metadata": {},
   "source": [
    "<img src=\"images/d3.png\" style=\"width:20%; float:left;\" />"
   ]
  },
  {
   "cell_type": "markdown",
   "metadata": {},
   "source": [
    "<img src=\"images/CAIDASlogo.png\" style=\"width:20%; float:left;\" />"
   ]
  },
  {
   "cell_type": "markdown",
   "metadata": {
    "slideshow": {
     "slide_type": "slide"
    }
   },
   "source": [
    "## Sources\n",
    "This lecture relies mainly on https://aeturrell.github.io/coding-for-economists/vis-letsplot.html."
   ]
  },
  {
   "cell_type": "markdown",
   "metadata": {
    "slideshow": {
     "slide_type": "slide"
    }
   },
   "source": [
    "<img src=\"https://raw.githubusercontent.com/vhaus63/ids_data/main/ao_data_vis.png\" style=\"width:80%; float:left;\" />"
   ]
  },
  {
   "cell_type": "code",
   "execution_count": null,
   "metadata": {
    "slideshow": {
     "slide_type": "slide"
    }
   },
   "outputs": [],
   "source": [
    "import pandas as pd\n",
    "import numpy as np\n",
    "import seaborn as sns\n",
    "from lets_plot import *\n",
    "\n",
    "LetsPlot.setup_html() # Set up Lets-Plot for HTML output (useful in Jupyter notebooks)"
   ]
  },
  {
   "cell_type": "markdown",
   "metadata": {
    "slideshow": {
     "slide_type": "slide"
    }
   },
   "source": [
    "## Motivation"
   ]
  },
  {
   "cell_type": "markdown",
   "metadata": {},
   "source": [
    "As a data scientist, you will often face the challenge to understand a given dataset. For a first intuition, plots can be very helpful in this task. `lets-plot` allows you to create a wide range of plots with just a few lines of code and simple to understand syntax. Let's look at an example:\n",
    "\n",
    "We will take a quick look at the __tips dataset__ from seaborn."
   ]
  },
  {
   "cell_type": "code",
   "execution_count": null,
   "metadata": {
    "slideshow": {
     "slide_type": "slide"
    }
   },
   "outputs": [],
   "source": [
    "df = sns.load_dataset(\"tips\")\n",
    "df.head()"
   ]
  },
  {
   "cell_type": "markdown",
   "metadata": {
    "slideshow": {
     "slide_type": "slide"
    }
   },
   "source": [
    "Imagine, you want to find out if there are differences in tipping behaviour based on the smoking status of a person and the day of the week. We can easily do this with `lets-plot`:"
   ]
  },
  {
   "cell_type": "code",
   "execution_count": null,
   "metadata": {
    "slideshow": {
     "slide_type": "-"
    }
   },
   "outputs": [],
   "source": [
    "(\n",
    "    ggplot(df, aes(x=\"tip\", y=\"total_bill\", color=\"smoker\"))\n",
    "    + geom_point(size=3)\n",
    "    + facet_wrap([\"smoker\", \"day\"])\n",
    ")"
   ]
  },
  {
   "cell_type": "markdown",
   "metadata": {
    "slideshow": {
     "slide_type": "fragment"
    }
   },
   "source": [
    "This plot shows that higher total bills generally lead to higher tips across all groups. Additionally, smokers tend to have more variability in their tips, especially on weekends, compared to non-smokers who show a more consistent tipping pattern."
   ]
  },
  {
   "cell_type": "markdown",
   "metadata": {
    "slideshow": {
     "slide_type": "slide"
    }
   },
   "source": [
    "## Layers of a visualization\n",
    "Every plot that you will create in Python can be broken down into the following seven layers:\n",
    "\n",
    "<img src=\"https://datathon-ufrgs.github.io/Pintando_e_Bordando_no_R/images/camadas2.png\" height=200>\n",
    "\n",
    "The nice thing about lets-plot is that it allows you to control each of these layers separately and to simply stack them on top of each other. Here are some more details about the distinct layers:"
   ]
  },
  {
   "cell_type": "markdown",
   "metadata": {
    "slideshow": {
     "slide_type": "slide"
    }
   },
   "source": [
    "### Data\n",
    "* The dataset to be visualized\n",
    "* In lets-plot, you typically pass a pandas DataFrame as the data source\n",
    "* Grammar requires a tidy format (remember last lecture)"
   ]
  },
  {
   "cell_type": "markdown",
   "metadata": {
    "slideshow": {
     "slide_type": "slide"
    }
   },
   "source": [
    "### Aesthetics\n",
    "Defines the mapping of data variables to visual properties like x, y, color, fill, etc. This is done within the aes() function."
   ]
  },
  {
   "cell_type": "markdown",
   "metadata": {
    "slideshow": {
     "slide_type": "slide"
    }
   },
   "source": [
    "### Geometries\n",
    "* Specifies the type of plot or layer, such as points, lines, bars, etc.\n",
    "* Determines how the data will be visually represented"
   ]
  },
  {
   "cell_type": "markdown",
   "metadata": {
    "slideshow": {
     "slide_type": "slide"
    }
   },
   "source": [
    "### Facet Mapping\n",
    "Allows for creating small multiples or splitting the data into subplots based on one or more categorical variables. Panel layout may carry meaning."
   ]
  },
  {
   "cell_type": "markdown",
   "metadata": {
    "slideshow": {
     "slide_type": "slide"
    }
   },
   "source": [
    "### Statistics\n",
    "* Even though data is tidy it may not represent the displayed values\n",
    "* Transform input variables to displayed values:\n",
    "   * Count number of observations in each category for a bar chart\n",
    "   * Calculate summary statistics for a boxplot.\n",
    "* Is implicit in many plot-types but can often be done prior to plotting"
   ]
  },
  {
   "cell_type": "markdown",
   "metadata": {
    "slideshow": {
     "slide_type": "slide"
    }
   },
   "source": [
    "### Coordinates\n",
    "Controls the scaling and transformation of the plot's coordinate system. For example, you can swap x and y axes, or set limits to zoom in on a specific area of the plot."
   ]
  },
  {
   "cell_type": "markdown",
   "metadata": {
    "slideshow": {
     "slide_type": "slide"
    }
   },
   "source": [
    "### Theme\n",
    "* None of the priors talked about the visual look of the plot.\n",
    "* Theming spans every part of the graphic that is not linked to data\n",
    "* Elements like the background, grid lines, and fonts can be specified"
   ]
  },
  {
   "cell_type": "markdown",
   "metadata": {
    "slideshow": {
     "slide_type": "slide"
    }
   },
   "source": [
    "We will work with the Palmer Penguins Dataset, which will be imported in the following command together with pandas and lets-plot. At the beginning, we will now go through the three key components that a plot is made out of: __data, aesthetics and geoms.__"
   ]
  },
  {
   "cell_type": "markdown",
   "metadata": {
    "slideshow": {
     "slide_type": "slide"
    }
   },
   "source": [
    "# Palmer Penguins Dataset\n",
    "\n",
    "The Palmer Penguins dataset contains information about three penguin species observed in the Palmer Archipelago, Antarctica. Here are the main columns in the dataset:\n",
    "\n",
    "| Column             | Description                                                                                   |\n",
    "|--------------------|-----------------------------------------------------------------------------------------------|\n",
    "| **species**        | The species of the penguin, which can be one of three types: Adelie, Gentoo, or Chinstrap.    |\n",
    "| **island**         | The island in the Palmer Archipelago where the penguin was observed: Biscoe, Dream, or Torgersen. |\n",
    "| **bill_length_mm** | The length of the penguin's bill (\"Schnabel\") in millimeters.                                       |\n",
    "| **bill_depth_mm**  | The depth (height) of the penguin's bill in millimeters.                                      |\n",
    "| **flipper_length_mm** | The length of the penguin's flipper (\"Flosse\") in millimeters.                                        |\n",
    "| **body_mass_g**    | The body mass (weight) of the penguin in grams.                                               |\n",
    "| **sex**            | The sex of the penguin, either male or female.\n"
   ]
  },
  {
   "cell_type": "code",
   "execution_count": null,
   "metadata": {
    "slideshow": {
     "slide_type": "slide"
    }
   },
   "outputs": [],
   "source": [
    "from palmerpenguins import load_penguins\n",
    "\n",
    "penguins = load_penguins()\n",
    "penguins.head()"
   ]
  },
  {
   "cell_type": "markdown",
   "metadata": {
    "slideshow": {
     "slide_type": "slide"
    }
   },
   "source": [
    "## Basics\n",
    "\n",
    "Every plot has three key components: __data, aesthetic mappings, layers__ (at least one, called geoms). Here's a simple example:"
   ]
  },
  {
   "cell_type": "code",
   "execution_count": null,
   "metadata": {
    "slideshow": {
     "slide_type": "-"
    }
   },
   "outputs": [],
   "source": [
    "(\n",
    "    ggplot(penguins, aes(x = \"body_mass_g\", y = \"flipper_length_mm\")) +\n",
    "  geom_point()\n",
    ")"
   ]
  },
  {
   "cell_type": "markdown",
   "metadata": {
    "slideshow": {
     "slide_type": "slide"
    }
   },
   "source": [
    "We can play around with the look of the plot:"
   ]
  },
  {
   "cell_type": "code",
   "execution_count": null,
   "metadata": {
    "slideshow": {
     "slide_type": "-"
    }
   },
   "outputs": [],
   "source": [
    "(\n",
    "    ggplot(penguins, aes(x = \"body_mass_g\", y = \"flipper_length_mm\")) +\n",
    "  geom_point(size=3, alpha=.5, shape=23, fill='green', color='blue', stroke=1.5)\n",
    ")"
   ]
  },
  {
   "cell_type": "markdown",
   "metadata": {
    "slideshow": {
     "slide_type": "slide"
    }
   },
   "source": [
    "You can  find a short overview over the available parameters at https://lets-plot.org/python/pages/aesthetics.html."
   ]
  },
  {
   "cell_type": "markdown",
   "metadata": {
    "slideshow": {
     "slide_type": "slide"
    }
   },
   "source": [
    "Note that data and aesthetic mappings were supplied to a function called `ggplot`, which accepts the *data* and *aes*, then layers/*geoms* are added on with +. The pattern will be similar for all **lets-plot** charts.\n",
    "\n",
    "Note that the variables `x` and `y` in the `aes` call are necessary positional arguments, so you can simply omit saying `x=` and `y=` like this:"
   ]
  },
  {
   "cell_type": "code",
   "execution_count": null,
   "metadata": {
    "slideshow": {
     "slide_type": "-"
    }
   },
   "outputs": [],
   "source": [
    "(\n",
    "  ggplot(penguins, aes(\"body_mass_g\", \"flipper_length_mm\"))\n",
    "  + geom_point()\n",
    ")"
   ]
  },
  {
   "cell_type": "markdown",
   "metadata": {
    "slideshow": {
     "slide_type": "slide"
    }
   },
   "source": [
    "## Adding extra dimensions: shape, colour, and size"
   ]
  },
  {
   "cell_type": "code",
   "execution_count": null,
   "metadata": {
    "slideshow": {
     "slide_type": "-"
    }
   },
   "outputs": [],
   "source": [
    "(\n",
    "  ggplot(penguins, aes(\"body_mass_g\", \"flipper_length_mm\", colour=\"island\"))\n",
    "  + geom_point()\n",
    ")"
   ]
  },
  {
   "cell_type": "markdown",
   "metadata": {
    "slideshow": {
     "slide_type": "skip"
    }
   },
   "source": [
    "You can see that this has rendered the categorical variable \"island\" by having it appear in different colours. A legend has automatically been added. Do remember that not everyone can see all colours well, so it's best to use colourblind-friendly colour scales whenever possible."
   ]
  },
  {
   "cell_type": "markdown",
   "metadata": {
    "slideshow": {
     "slide_type": "slide"
    }
   },
   "source": [
    "Note that we can create the same plot placting the __aesthetics inside `geom_point`__ since this is the only layer here. In the code above, the aesthetics were defined __globally__ for the entire plot."
   ]
  },
  {
   "cell_type": "code",
   "execution_count": null,
   "metadata": {
    "slideshow": {
     "slide_type": "-"
    }
   },
   "outputs": [],
   "source": [
    "(\n",
    "  ggplot(penguins)\n",
    "  + geom_point(aes(\"body_mass_g\", \"flipper_length_mm\", colour=\"island\"))\n",
    ")"
   ]
  },
  {
   "cell_type": "markdown",
   "metadata": {
    "slideshow": {
     "slide_type": "slide"
    }
   },
   "source": [
    "This behaviour becomes more clear if we add another layer like `geom_line`."
   ]
  },
  {
   "cell_type": "code",
   "execution_count": null,
   "metadata": {
    "slideshow": {
     "slide_type": "-"
    }
   },
   "outputs": [],
   "source": [
    "(\n",
    "  ggplot(penguins)\n",
    "  + geom_point(aes(\"body_mass_g\", \"flipper_length_mm\", colour=\"island\"))\n",
    "  + geom_line(aes(\"body_mass_g\", \"flipper_length_mm\"))\n",
    ")"
   ]
  },
  {
   "cell_type": "code",
   "execution_count": null,
   "metadata": {
    "slideshow": {
     "slide_type": "slide"
    }
   },
   "outputs": [],
   "source": [
    "(\n",
    "  ggplot(penguins, aes(\"body_mass_g\", \"flipper_length_mm\", colour=\"island\"))\n",
    "  + geom_point()\n",
    "  + geom_line()\n",
    ")"
   ]
  },
  {
   "cell_type": "markdown",
   "metadata": {
    "slideshow": {
     "slide_type": "slide"
    }
   },
   "source": [
    "Let's look at shape too:"
   ]
  },
  {
   "cell_type": "code",
   "execution_count": null,
   "metadata": {
    "slideshow": {
     "slide_type": "-"
    }
   },
   "outputs": [],
   "source": [
    "(\n",
    "  ggplot(penguins, aes(\"body_mass_g\", \"flipper_length_mm\", shape=\"island\"))\n",
    "  + geom_point()\n",
    ")"
   ]
  },
  {
   "cell_type": "markdown",
   "metadata": {
    "slideshow": {
     "slide_type": "slide"
    }
   },
   "source": [
    "Although we previously set the size of the points overall, we can use them as an aesthetic too:"
   ]
  },
  {
   "cell_type": "code",
   "execution_count": null,
   "metadata": {
    "slideshow": {
     "slide_type": "-"
    }
   },
   "outputs": [],
   "source": [
    "(\n",
    "  ggplot(penguins, aes(\"body_mass_g\", \"flipper_length_mm\", size=\"island\"))\n",
    "  + geom_point(alpha=0.5)\n",
    ")"
   ]
  },
  {
   "cell_type": "markdown",
   "metadata": {
    "slideshow": {
     "slide_type": "slide"
    }
   },
   "source": [
    "### Facets\n",
    "\n",
    "You can use facets (aka small multiples) to display more dimensions of information too. To facet your plot by a single variable, use `facet_wrap()`. The first argument of `facet_wrap()` tells the function what variable to have in successive charts. The variable that you pass to `facet_wrap()` should be categorical."
   ]
  },
  {
   "cell_type": "code",
   "execution_count": null,
   "metadata": {
    "slideshow": {
     "slide_type": "-"
    }
   },
   "outputs": [],
   "source": [
    "(\n",
    "    ggplot(penguins, aes(\"body_mass_g\", \"flipper_length_mm\"))\n",
    "    + geom_point()\n",
    "    + facet_wrap(facets=\"island\", ncol=3)\n",
    ")"
   ]
  },
  {
   "cell_type": "markdown",
   "metadata": {
    "slideshow": {
     "slide_type": "slide"
    }
   },
   "source": [
    "## Exercise 1\n",
    "\n",
    "(a) What is wrong with this code - can you fix it to make all points blue?"
   ]
  },
  {
   "cell_type": "code",
   "execution_count": null,
   "metadata": {},
   "outputs": [],
   "source": [
    "(\n",
    "    ggplot(data=penguins)\n",
    "    + geom_point(aes(x='body_mass_g', y='flipper_length_mm', color=\"blue\"))\n",
    "    + labs(title=\"Penguins Body Mass vs Flipper Length (Fixed Color)\")\n",
    ")"
   ]
  },
  {
   "cell_type": "code",
   "execution_count": null,
   "metadata": {},
   "outputs": [],
   "source": [
    "# your code here"
   ]
  },
  {
   "cell_type": "markdown",
   "metadata": {
    "slideshow": {
     "slide_type": "slide"
    }
   },
   "source": [
    "(b) We want to create a plot that shows the `flipper_length_mm` (y-axis) based on the `body_mass_g` (x-axis). The size of the points should depend on `flipper_length_mm`. Fix this code."
   ]
  },
  {
   "cell_type": "code",
   "execution_count": null,
   "metadata": {},
   "outputs": [],
   "source": [
    "(\n",
    "    ggplot(data=penguins)\n",
    "    + geom_point(aes(x='body_mass_g', y='flipper_length_mm'), size=\"flipper_length_mm\")\n",
    ")"
   ]
  },
  {
   "cell_type": "code",
   "execution_count": null,
   "metadata": {},
   "outputs": [],
   "source": [
    "# your code here"
   ]
  },
  {
   "cell_type": "markdown",
   "metadata": {
    "slideshow": {
     "slide_type": "slide"
    }
   },
   "source": [
    "## Plot Geoms\n",
    "\n",
    "We can substitute `geom_point()` for a different geom function in order to highlight different aspects of data. Here are some examples:\n",
    "\n",
    "-   `geom_smooth()` fits a smoothed conditional line then plots it and its standard error.\n",
    "\n",
    "-   `geom_boxplot()` produces a box-and-whisker plot to summarise the distribution of a set of points.\n",
    "\n",
    "-   `geom_histogram()` and `geom_density()` show the distribution of continuous variables.\n",
    "\n",
    "-   `geom_bar()` shows counts of categorical variables.\n",
    "\n",
    "-   `geom_path()` and `geom_line()` draw lines between the data points.\n",
    "    A line plot is constrained to produce lines that travel from left to right, while paths can go in any direction.\n",
    "    Lines are typically used to explore how things change over time.\n",
    "\n",
    "Let's take a closer look:"
   ]
  },
  {
   "cell_type": "markdown",
   "metadata": {
    "slideshow": {
     "slide_type": "slide"
    }
   },
   "source": [
    "### Fitting a line"
   ]
  },
  {
   "cell_type": "code",
   "execution_count": null,
   "metadata": {
    "slideshow": {
     "slide_type": "-"
    }
   },
   "outputs": [],
   "source": [
    "(\n",
    "  ggplot(penguins, aes(\"body_mass_g\", \"flipper_length_mm\"))\n",
    "  + geom_point()\n",
    "  + geom_smooth(method=\"loess\")\n",
    ")"
   ]
  },
  {
   "cell_type": "markdown",
   "metadata": {
    "slideshow": {
     "slide_type": "fragment"
    }
   },
   "source": [
    "You can use a linear model instead with `method=\"lm\"` (this is the default)."
   ]
  },
  {
   "cell_type": "markdown",
   "metadata": {
    "slideshow": {
     "slide_type": "slide"
    }
   },
   "source": [
    "### Jittered points and boxplots\n",
    "\n",
    "These are especially useful when we have lots of data that overlap, or want to get more of an idea of the overall distribution, or both."
   ]
  },
  {
   "cell_type": "code",
   "execution_count": null,
   "metadata": {
    "slideshow": {
     "slide_type": "-"
    }
   },
   "outputs": [],
   "source": [
    "(\n",
    "    ggplot(penguins, aes(\"island\", \"body_mass_g\"))\n",
    "    + geom_jitter()\n",
    ")"
   ]
  },
  {
   "cell_type": "markdown",
   "metadata": {
    "slideshow": {
     "slide_type": "slide"
    }
   },
   "source": [
    "Box plots are created via:"
   ]
  },
  {
   "cell_type": "code",
   "execution_count": null,
   "metadata": {
    "slideshow": {
     "slide_type": "-"
    }
   },
   "outputs": [],
   "source": [
    "(\n",
    "    ggplot(penguins, aes(\"island\", \"body_mass_g\"))\n",
    "    + geom_boxplot()\n",
    ")"
   ]
  },
  {
   "cell_type": "markdown",
   "metadata": {
    "slideshow": {
     "slide_type": "slide"
    }
   },
   "source": [
    "### Histograms and probability density plots"
   ]
  },
  {
   "cell_type": "code",
   "execution_count": null,
   "metadata": {
    "slideshow": {
     "slide_type": "-"
    }
   },
   "outputs": [],
   "source": [
    "(\n",
    "    ggplot(penguins, aes(\"body_mass_g\"))\n",
    "    + geom_histogram()\n",
    ")"
   ]
  },
  {
   "cell_type": "markdown",
   "metadata": {
    "slideshow": {
     "slide_type": "fragment"
    }
   },
   "source": [
    "`geom_histogram()` has a `bins=` keyword argument that should be chosen carefully."
   ]
  },
  {
   "cell_type": "code",
   "execution_count": null,
   "metadata": {
    "slideshow": {
     "slide_type": "slide"
    }
   },
   "outputs": [],
   "source": [
    "(\n",
    "    ggplot(penguins, aes(\"body_mass_g\"))\n",
    "    + geom_density()\n",
    ")"
   ]
  },
  {
   "cell_type": "markdown",
   "metadata": {
    "slideshow": {
     "slide_type": "slide"
    }
   },
   "source": [
    "### Bar Charts\n",
    "\n"
   ]
  },
  {
   "cell_type": "code",
   "execution_count": null,
   "metadata": {
    "slideshow": {
     "slide_type": "-"
    }
   },
   "outputs": [],
   "source": [
    "(\n",
    "    ggplot(penguins, aes(\"species\"))\n",
    "    + geom_bar()\n",
    ")"
   ]
  },
  {
   "cell_type": "markdown",
   "metadata": {},
   "source": [
    "These are as you'd expect, but if you don't want a count of the number of items but just to __display the given values__, you can use the keyword argument `stat=\"identity\"`."
   ]
  },
  {
   "cell_type": "code",
   "execution_count": null,
   "metadata": {},
   "outputs": [],
   "source": [
    "# Sample data\n",
    "data = pd.DataFrame({\n",
    "    'category': ['A', 'B', 'C'],\n",
    "    'value': [10, 20, 15]\n",
    "})\n",
    "\n",
    "# Create a bar plot using the actual values in the data\n",
    "ggplot(data, aes(x='category', y='value')) + \\\n",
    "    geom_bar(stat='identity')"
   ]
  },
  {
   "cell_type": "markdown",
   "metadata": {
    "slideshow": {
     "slide_type": "slide"
    }
   },
   "source": [
    "### Line charts and time series\n",
    "\n",
    "Let's create a sample dataset for a timeseries that contains information on the temperature per day:"
   ]
  },
  {
   "cell_type": "code",
   "execution_count": null,
   "metadata": {
    "slideshow": {
     "slide_type": "-"
    }
   },
   "outputs": [],
   "source": [
    "np.random.seed(0)\n",
    "date_range = pd.date_range(start=\"2024-01-01\", end=\"2024-01-31\", freq='D')\n",
    "temperature = 20 + np.random.normal(0, 2, len(date_range)).cumsum()  # Simulated temperature data\n",
    "\n",
    "temperature_data = pd.DataFrame({'date': date_range, 'temperature': temperature})\n",
    "temperature_data.head()"
   ]
  },
  {
   "cell_type": "code",
   "execution_count": null,
   "metadata": {
    "slideshow": {
     "slide_type": "slide"
    }
   },
   "outputs": [],
   "source": [
    "(\n",
    "    ggplot(temperature_data, aes(x='date', y='temperature'))\n",
    "    + geom_line(color='blue', size=1)\n",
    "    + geom_point(color='blue', size=7, alpha=0.5)\n",
    ")"
   ]
  },
  {
   "cell_type": "markdown",
   "metadata": {
    "slideshow": {
     "slide_type": "slide"
    }
   },
   "source": [
    "## Labels and Titles\n",
    "\n",
    "`xlab()` and `ylab()` modify the x- and y-axis labels:"
   ]
  },
  {
   "cell_type": "code",
   "execution_count": null,
   "metadata": {
    "slideshow": {
     "slide_type": "-"
    }
   },
   "outputs": [],
   "source": [
    "(\n",
    "  ggplot(penguins, aes(\"body_mass_g\", \"flipper_length_mm\"))\n",
    "  + geom_point()\n",
    "  + xlab(\"Body mass (g)\")\n",
    "  + ylab(\"Flipper length (mm)\")\n",
    ")"
   ]
  },
  {
   "cell_type": "markdown",
   "metadata": {
    "slideshow": {
     "slide_type": "slide"
    }
   },
   "source": [
    "But you can also specify all labels and titles at once:"
   ]
  },
  {
   "cell_type": "code",
   "execution_count": null,
   "metadata": {
    "slideshow": {
     "slide_type": "-"
    }
   },
   "outputs": [],
   "source": [
    "(\n",
    "    ggplot(penguins, aes(x=\"flipper_length_mm\", y=\"body_mass_g\"))\n",
    "    + geom_point(aes(color=\"species\", shape=\"species\"))\n",
    "    + geom_smooth(method=\"lm\")\n",
    "    + labs(\n",
    "        title=\"Body mass and flipper length\",\n",
    "        subtitle=\"Dimensions for Adelie, Chinstrap, and Gentoo Penguins\",\n",
    "        x=\"Flipper length (mm)\",\n",
    "        y=\"Body mass (g)\",\n",
    "        color=\"Species\",\n",
    "        shape=\"Species\",\n",
    "    )\n",
    ")"
   ]
  },
  {
   "cell_type": "markdown",
   "metadata": {
    "slideshow": {
     "slide_type": "slide"
    }
   },
   "source": [
    "## Limits on axes\n",
    "\n",
    "You always have an option when it comes to removing points from your data: you can __filter your dataframe__ or change the __limits on your axes__ when you are plotting data. If you wish to do the latter, use the `xlim` and `ylim` comnands to do this."
   ]
  },
  {
   "cell_type": "code",
   "execution_count": null,
   "metadata": {
    "slideshow": {
     "slide_type": "-"
    }
   },
   "outputs": [],
   "source": [
    "(\n",
    "ggplot(penguins, aes(x=\"flipper_length_mm\", y=\"body_mass_g\"))\n",
    "  + geom_point(size=4)\n",
    "  + xlim(200, 230)\n",
    "  + ylim(3e3, 5e3)\n",
    ")"
   ]
  },
  {
   "cell_type": "markdown",
   "metadata": {
    "slideshow": {
     "slide_type": "slide"
    }
   },
   "source": [
    "## Themes\n",
    "`lets-plot` provides several built-in themes to customize the appearance of your plots."
   ]
  },
  {
   "cell_type": "code",
   "execution_count": null,
   "metadata": {
    "slideshow": {
     "slide_type": "-"
    }
   },
   "outputs": [],
   "source": [
    "themes = [\n",
    "    ('Black and White', theme_bw()),\n",
    "    ('Minimal', theme_minimal()),\n",
    "    ('Minimal 2', theme_minimal2()),\n",
    "    ('Light', theme_light()),\n",
    "    ('Classic', theme_classic()),\n",
    "    ('None', theme_none())\n",
    "]\n",
    "\n",
    "# Create the plot object\n",
    "plot = ggplot(penguins) + geom_point(aes(x='bill_length_mm', y='bill_depth_mm', color='species'))\n",
    "\n",
    "# Loop through each theme, apply it, and display the plot with a title\n",
    "for theme_name, theme in themes:\n",
    "    p = plot + theme + ggtitle(f\"Theme: {theme_name}\")\n",
    "    p.show()"
   ]
  },
  {
   "cell_type": "markdown",
   "metadata": {
    "slideshow": {
     "slide_type": "slide"
    }
   },
   "source": [
    "You can define __custom themes__ in lets-plot by modifying various plot elements such as the background, grid lines, text size, axis labels, etc. This is done by using the theme() function, which allows you to specify different theme elements to customize the appearance of your plot.\n",
    "\n",
    "For more information on this you can have a look at this Notebook: https://nbviewer.org/github/JetBrains/lets-plot-docs/blob/master/source/kotlin_examples/cookbook/themes.ipynb"
   ]
  },
  {
   "cell_type": "markdown",
   "metadata": {
    "slideshow": {
     "slide_type": "slide"
    }
   },
   "source": [
    "## Scales\n",
    "In `lets-plot`, scales are used to map data to visual properties (aesthetics) such as color, size, shape, etc. Each aesthetic inside `aes()` gets assigned a scale, either by default or explicitly through the user. You can customize scales to adjust how data is mapped to aesthetics. For example, you can set __custom color__ palettes, control the __range of values__ for size, or define __specific breaks__ for axes."
   ]
  },
  {
   "cell_type": "code",
   "execution_count": null,
   "metadata": {
    "slideshow": {
     "slide_type": "-"
    }
   },
   "outputs": [],
   "source": [
    "plot = ggplot(penguins) + geom_point(aes(x='bill_length_mm', y='bill_depth_mm', color='species', size='body_mass_g'))\n",
    "\n",
    "custom_color_palette = plot + scale_color_discrete(palette='Set2')\n",
    "custom_color_palette\n"
   ]
  },
  {
   "cell_type": "markdown",
   "metadata": {
    "slideshow": {
     "slide_type": "slide"
    }
   },
   "source": [
    "For more options regarding `palette`, see [here](https://ggplot2-book.org/scales-colour#sec-colour-discrete). "
   ]
  },
  {
   "cell_type": "code",
   "execution_count": null,
   "metadata": {
    "slideshow": {
     "slide_type": "slide"
    }
   },
   "outputs": [],
   "source": [
    "custom_scales = plot + scale_x_continuous(breaks=[35, 50, 59]) + scale_y_continuous(trans = 'reverse')\n",
    "custom_scales"
   ]
  },
  {
   "cell_type": "markdown",
   "metadata": {
    "slideshow": {
     "slide_type": "slide"
    }
   },
   "source": [
    "## Other useful-to-know elements of **lets-plot** charts\n",
    "\n",
    "The [documentation](https://lets-plot.org/) of lets-plot is absolutely excellent and comprehensive — so you can find whatever you need there. But it may be useful to at least know of some further features we didn't look at in this lecture.\n",
    "\n",
    "Here is a glimpse of what you can achieve with `lets-plot`:\n",
    "\n",
    "Remark: This is just a screenshot of an interactive plot for which we will leave out the code. If you are interested in recreating it, feel free to follow along with https://www.kaggle.com/code/asmirnovhoris/bigquery-gis-and-lets-plot.\n",
    "\n",
    "<img src=\"images/bike_plot.png\" height=600>\n"
   ]
  },
  {
   "cell_type": "markdown",
   "metadata": {
    "slideshow": {
     "slide_type": "slide"
    }
   },
   "source": [
    "The following code will give you a basic contour plot with contour lines representing the levels of the function $\\sin(X^2 + Y^2)$"
   ]
  },
  {
   "cell_type": "code",
   "execution_count": null,
   "metadata": {
    "slideshow": {
     "slide_type": "-"
    }
   },
   "outputs": [],
   "source": [
    "x = np.linspace(-3.0, 3.0, 100)\n",
    "y = np.linspace(-3.0, 3.0, 100)\n",
    "X, Y = np.meshgrid(x, y)\n",
    "Z = np.sin(X**2 + Y**2)\n",
    "\n",
    "data = pd.DataFrame({\n",
    "    'x': X.ravel(),\n",
    "    'y': Y.ravel(),\n",
    "    'z': Z.ravel()\n",
    "})\n",
    "\n",
    "plot = ggplot(data) + geom_contour(aes(x='x', y='y', z='z'), color='blue')\n",
    "\n",
    "plot\n"
   ]
  },
  {
   "cell_type": "markdown",
   "metadata": {
    "slideshow": {
     "slide_type": "slide"
    }
   },
   "source": [
    "## Exercise 2"
   ]
  },
  {
   "cell_type": "markdown",
   "metadata": {},
   "source": [
    "Recreate this plot:"
   ]
  },
  {
   "cell_type": "markdown",
   "metadata": {},
   "source": [
    "<img src='images\\violin.png' style='width:30%; float:left;' />"
   ]
  },
  {
   "cell_type": "code",
   "execution_count": null,
   "metadata": {},
   "outputs": [],
   "source": [
    "# your code here"
   ]
  },
  {
   "cell_type": "markdown",
   "metadata": {
    "slideshow": {
     "slide_type": "slide"
    }
   },
   "source": [
    "## Saving your plot to a file\n",
    "\n",
    "Once you've made a plot, you might want to save it as an image that you can use elsewhere.\n",
    "That's the job of `ggsave()`, which will save the plot most recently created to disk:\n"
   ]
  },
  {
   "cell_type": "code",
   "execution_count": null,
   "metadata": {
    "slideshow": {
     "slide_type": "-"
    }
   },
   "outputs": [],
   "source": [
    "plotted_data = (\n",
    "    ggplot(penguins, aes(x=\"flipper_length_mm\", y=\"body_mass_g\")) + geom_point()\n",
    ")\n",
    "ggsave(plotted_data, filename=\"penguin-plot.svg\")"
   ]
  },
  {
   "cell_type": "markdown",
   "metadata": {
    "slideshow": {
     "slide_type": "fragment"
    }
   },
   "source": [
    "This saved the figure to disk at the location shown—by default it's in a subdirectory called \"lets-plot-images\".\n",
    "\n",
    "We used the file format \"svg\". There are __lots of output options__ to choose from to save your file to. Remember that, for graphics, __*vector formats*__ are generally better than *raster formats*. In practice, this means saving plots in __svg or pdf formats__ over jpg or png file formats. The svg format works in a lot of contexts (including Microsoft Word) and is a good default. To choose between formats, just supply the file extension and the file type will change automatically, eg \"chart.svg\" for svg or \"chart.png\" for png. You can also save figures in HTML format."
   ]
  },
  {
   "cell_type": "markdown",
   "metadata": {
    "slideshow": {
     "slide_type": "slide"
    }
   },
   "source": [
    "## Other plotting libraries\n",
    "\n",
    "There is many different options to choose from regarding plotting packages for python, where each of them has their own advantages. Among the most popular are:\n",
    "- **Matplotlib:** A highly versatile library for creating static plots with extensive customization options for various chart types, from simple to complex.\n",
    "\n",
    "- **Seaborn:** Built on top of Matplotlib, it simplifies the creation of attractive statistical plots with built-in themes and higher-level abstractions.\n",
    "\n",
    "- **Plotly:** Focuses on interactive visualizations, ideal for web-based plots with features like zooming, real-time updates, and hover effects.\n",
    "\n",
    "- **Altair:** A declarative visualization library for creating interactive and aesthetically pleasing plots with a simple syntax, suitable for statistical analysis.\n",
    "\n",
    "If you want to see those libraries compared to each other directly, have a look at https://aeturrell.github.io/coding-for-economists/vis-common-plots.html#connected-scatter-plot."
   ]
  },
  {
   "cell_type": "markdown",
   "metadata": {
    "slideshow": {
     "slide_type": "slide"
    }
   },
   "source": [
    "## General advice on plotting"
   ]
  },
  {
   "cell_type": "markdown",
   "metadata": {},
   "source": [
    "_Graphical excellence is that which gives to the viewer the greatest number of ideas in the shortest time with the least ink\n",
    "in the smallest space._\n",
    "\n",
    "Edward Tufte"
   ]
  },
  {
   "cell_type": "markdown",
   "metadata": {
    "slideshow": {
     "slide_type": "fragment"
    }
   },
   "source": [
    "Here are the main points to consider:\n",
    "\n",
    "- Above all else, show the data\n",
    "- Maximize the data-ink ratio\n",
    "- revise and edit"
   ]
  },
  {
   "cell_type": "markdown",
   "metadata": {
    "slideshow": {
     "slide_type": "slide"
    }
   },
   "source": [
    "### Decision Tree for  Visualization Choices"
   ]
  },
  {
   "cell_type": "markdown",
   "metadata": {
    "slideshow": {
     "slide_type": "-"
    }
   },
   "source": [
    "<img src=\"images/chart-types.png\" style=\"width:80%; float:left;\" />"
   ]
  },
  {
   "cell_type": "markdown",
   "metadata": {
    "slideshow": {
     "slide_type": "slide"
    }
   },
   "source": [
    "## Next lecture: Data Acquisition\n",
    "\n",
    "<img src=\"https://raw.githubusercontent.com/vhaus63/ids_data/main/ao_data_acquisition.png\" style=\"width:100%; float:left;\" />"
   ]
  },
  {
   "cell_type": "markdown",
   "metadata": {
    "slideshow": {
     "slide_type": "slide"
    }
   },
   "source": [
    "## Mentimeter"
   ]
  }
 ],
 "metadata": {
  "celltoolbar": "Slideshow",
  "kernelspec": {
   "display_name": "env",
   "language": "python",
   "name": "python3"
  },
  "language_info": {
   "codemirror_mode": {
    "name": "ipython",
    "version": 3
   },
   "file_extension": ".py",
   "mimetype": "text/x-python",
   "name": "python",
   "nbconvert_exporter": "python",
   "pygments_lexer": "ipython3",
   "version": "3.11.6"
  },
  "rise": {
   "custom_css": "./rise.css",
   "enable_chalkboard": false,
   "overlay": "<div class='background'></div><div class='header'>Introduction to Data Science (IDS)</div><div class='logo'><img src='images/d3logo.png'></div><div class='bar'></div>",
   "scroll": true,
   "slideNumber": true,
   "start_slideshow_at": "selected"
  },
  "varInspector": {
   "cols": {
    "lenName": 16,
    "lenType": 16,
    "lenVar": 40
   },
   "kernels_config": {
    "python": {
     "delete_cmd_postfix": "",
     "delete_cmd_prefix": "del ",
     "library": "var_list.py",
     "varRefreshCmd": "print(var_dic_list())"
    },
    "r": {
     "delete_cmd_postfix": ") ",
     "delete_cmd_prefix": "rm(",
     "library": "var_list.r",
     "varRefreshCmd": "cat(var_dic_list()) "
    }
   },
   "types_to_exclude": [
    "module",
    "function",
    "builtin_function_or_method",
    "instance",
    "_Feature"
   ],
   "window_display": false
  }
 },
 "nbformat": 4,
 "nbformat_minor": 4
}
